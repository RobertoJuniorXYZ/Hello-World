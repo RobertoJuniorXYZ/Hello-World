{
  "nbformat": 4,
  "nbformat_minor": 0,
  "metadata": {
    "colab": {
      "name": "APIs.ipynb",
      "provenance": [],
      "authorship_tag": "ABX9TyNcN2DbJH14t6SPDPuQBYnK"
    },
    "kernelspec": {
      "name": "python3",
      "display_name": "Python 3"
    },
    "language_info": {
      "name": "python"
    }
  },
  "cells": [
    {
      "cell_type": "code",
      "execution_count": null,
      "metadata": {
        "id": "q9WLqCZHBUZi"
      },
      "outputs": [],
      "source": [
        "import requests\n",
        "import json\n",
        "\n",
        "weather = requests.get(\"https://api.openweathermap.org/data/2.5/weather?q=London&lang=pt-br&appid=dc39ce015fa3b1dd04bb48530a102f6b\")\n",
        "weather = weather.json()\n",
        "\n",
        "weather = weather['weather']"
      ]
    },
    {
      "cell_type": "code",
      "source": [
        "print(weather)"
      ],
      "metadata": {
        "colab": {
          "base_uri": "https://localhost:8080/"
        },
        "id": "neuwmHqRCMNK",
        "outputId": "a57f463c-a939-4f90-bd4c-4c6ac210c18f"
      },
      "execution_count": null,
      "outputs": [
        {
          "output_type": "stream",
          "name": "stdout",
          "text": [
            "[{'id': 804, 'main': 'Clouds', 'description': 'overcast clouds', 'icon': '04d'}]\n"
          ]
        }
      ]
    },
    {
      "cell_type": "code",
      "source": [
        "import pandas as pd"
      ],
      "metadata": {
        "id": "POf4v4BlH_R5"
      },
      "execution_count": null,
      "outputs": []
    },
    {
      "cell_type": "code",
      "source": [
        "df = weather"
      ],
      "metadata": {
        "id": "1EKpe1dVIDLo"
      },
      "execution_count": null,
      "outputs": []
    },
    {
      "cell_type": "code",
      "source": [
        "weather_map = pd.DataFrame(weather, columns=[\"id\", \"main\", \"description\"])"
      ],
      "metadata": {
        "id": "aZ-h9ykSIFNB"
      },
      "execution_count": null,
      "outputs": []
    },
    {
      "cell_type": "code",
      "source": [
        "print(weather_map)"
      ],
      "metadata": {
        "colab": {
          "base_uri": "https://localhost:8080/"
        },
        "id": "UZmXXQZ1I3iQ",
        "outputId": "9dec0800-7bb3-4f2a-a5a1-7b71b8151c38"
      },
      "execution_count": null,
      "outputs": [
        {
          "output_type": "stream",
          "name": "stdout",
          "text": [
            "    id    main      description\n",
            "0  804  Clouds  overcast clouds\n"
          ]
        }
      ]
    }
  ]
}